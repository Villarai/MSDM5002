{
 "cells": [
  {
   "cell_type": "code",
   "execution_count": 9,
   "id": "caf56acd",
   "metadata": {},
   "outputs": [
    {
     "name": "stdout",
     "output_type": "stream",
     "text": [
      "['the', 'brown_fox']\n",
      "['the', 'brown', 'fox']\n"
     ]
    }
   ],
   "source": [
    "# import string\n",
    "\n",
    "\n",
    "# title = 'the brown_fox'\n",
    "# lst = title.split()\n",
    "# a=[]\n",
    "# for word in lst:\n",
    "#     if word == word.split('_'):\n",
    "#         a.append(word)\n",
    "#     else:\n",
    "#         for i in word.split('_'):\n",
    "#             a.append(i)\n",
    "# print(lst)\n",
    "# print(a)"
   ]
  },
  {
   "cell_type": "code",
   "execution_count": 2,
   "id": "8600d64e",
   "metadata": {},
   "outputs": [
    {
     "name": "stdout",
     "output_type": "stream",
     "text": [
      "Welcome to MSDM_5002 of Data-Driven Modeling for MSc Students Offered by Phys&Math Department in UST. We Will Continue to Learn NumPy and MatPlotLib.\n"
     ]
    }
   ],
   "source": [
    "#Assumption: 1. Special symbols only contains \"_\", \"-\" and \"&\"\n",
    "#            2. Words from the exception list will not appear at the first position of the sentence.\n",
    "import string\n",
    "\n",
    "exceptions=['a','an','the','at','by','for','in','of',\\\n",
    "             'on','to','up','and','as','but','or','nor']\n",
    "title = 'Welcome to MSDM_5002 of data-driven modeling \\\n",
    "for MSc students offered by phys&math Department in UST. \\\n",
    "We will continue to learn NumPy and MatPlotLib.'\n",
    "space = title.split()\n",
    "underSlash = []\n",
    "for word in space:\n",
    "    length1=len(word.split('_'))\n",
    "    length2=len(word.split('-'))\n",
    "    length3=len(word.split('&'))\n",
    "    if word in exceptions:\n",
    "        underSlash.append(word)\n",
    "    elif length1==1 and length2 ==1 and length3 ==1:\n",
    "        underSlash.append(word[0].upper() + word[1:])\n",
    "    else:      \n",
    "        if length1 !=1:\n",
    "            part=[]\n",
    "            for i in word.split('_'):\n",
    "                i=i[0].upper()+i[1:]\n",
    "                part.append(i)\n",
    "            word='_'.join(part)\n",
    "        if length2 !=1:\n",
    "            part=[]\n",
    "            for i in word.split('-'):\n",
    "                i=i[0].upper()+i[1:]\n",
    "                part.append(i)\n",
    "            word='-'.join(part)\n",
    "        if length3 !=1:\n",
    "            part=[]\n",
    "            for i in word.split('&'):\n",
    "                i=i[0].upper()+i[1:]\n",
    "                part.append(i)\n",
    "            word='&'.join(part)\n",
    "        underSlash.append(word)\n",
    "            \n",
    "sentence=' '.join(underSlash)\n",
    "    \n",
    "print(sentence)"
   ]
  },
  {
   "cell_type": "code",
   "execution_count": null,
   "id": "b6d8b7e1",
   "metadata": {},
   "outputs": [],
   "source": []
  }
 ],
 "metadata": {
  "kernelspec": {
   "display_name": "Python 3 (ipykernel)",
   "language": "python",
   "name": "python3"
  },
  "language_info": {
   "codemirror_mode": {
    "name": "ipython",
    "version": 3
   },
   "file_extension": ".py",
   "mimetype": "text/x-python",
   "name": "python",
   "nbconvert_exporter": "python",
   "pygments_lexer": "ipython3",
   "version": "3.11.5"
  }
 },
 "nbformat": 4,
 "nbformat_minor": 5
}
